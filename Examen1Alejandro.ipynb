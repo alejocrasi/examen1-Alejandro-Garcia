{
  "nbformat": 4,
  "nbformat_minor": 0,
  "metadata": {
    "colab": {
      "name": "Examen1Alejandro.ipynb",
      "provenance": [],
      "collapsed_sections": []
    },
    "kernelspec": {
      "name": "python3",
      "display_name": "Python 3"
    },
    "language_info": {
      "name": "python"
    }
  },
  "cells": [
    {
      "cell_type": "markdown",
      "metadata": {
        "id": "oedIUdPydSF5"
      },
      "source": [
        "**import**"
      ]
    },
    {
      "cell_type": "markdown",
      "metadata": {
        "id": "Gd6sk7pwhd9x"
      },
      "source": [
        "¿Qué tipo de variables tiene el dataset? Detalle el tipo de variable de cada\n",
        "columna.\n",
        "2. ¿En qué asignatura en promedio los estudiantes obtuvieron un mejor puntaje?\n",
        "3. ¿Existe alguna correlación entre los puntajes obtenidos en las tres asignaturas?\n",
        "4. ¿Hay alguna diferencia observable en los puntajes de la asignatura de\n",
        "matemáticas entre hombres y mujeres? ¿Quiénes, hombres o mujeres, tienen la\n",
        "mediana más alta para esta misma asignatura?\n",
        "5. ¿Qué nivel de escolaridad tienen los padres de los estudiantes que obtuvieron\n",
        "un puntaje superior a 90 en la asignatura de escritura? Liste los niveles de\n",
        "escolaridad del más al menos frecuente.\n",
        "6. ¿Qué porcentaje de los estudiantes obtuvieron puntajes iguales o superiores a\n",
        "90 en las tres asignaturas? ¿Qué porcentaje de los estudiantes obtuvieron\n",
        "puntajes iguales o superiores a 90 en las tres asignaturas y que adicionalmente\n",
        "estudiaron para los exámenes?"
      ]
    },
    {
      "cell_type": "code",
      "metadata": {
        "id": "3LdDgikAdCdL"
      },
      "source": [
        "import pandas as pd"
      ],
      "execution_count": 126,
      "outputs": []
    },
    {
      "cell_type": "markdown",
      "metadata": {
        "id": "eVWXAY64dVNc"
      },
      "source": [
        ""
      ]
    },
    {
      "cell_type": "code",
      "metadata": {
        "colab": {
          "base_uri": "https://localhost:8080/"
        },
        "id": "LCt2QWMCdQ8r",
        "outputId": "66190037-9d1b-44bd-8014-a97e9651d38a"
      },
      "source": [
        "df = pd.read_csv(\"https://docs.google.com/spreadsheets/d/e/2PACX-1vTkL3y4z0Sm3Roq7vU0_hvujWJQHfVEQfQI96oRDThPCHZzBo5dn9KcD4m9GkA3YEOnXnA2amexcr0g/pub?gid=2069426644&single=true&output=csv\")\n",
        "df.head"
      ],
      "execution_count": 127,
      "outputs": [
        {
          "output_type": "execute_result",
          "data": {
            "text/plain": [
              "<bound method NDFrame.head of      gender race/ethnicity  ... reading score writing score\n",
              "0    female        group B  ...            72            74\n",
              "1    female        group C  ...            90            88\n",
              "2    female        group B  ...            95            93\n",
              "3      male        group A  ...            57            44\n",
              "4      male        group C  ...            78            75\n",
              "..      ...            ...  ...           ...           ...\n",
              "995  female        group E  ...            99            95\n",
              "996    male        group C  ...            55            55\n",
              "997  female        group C  ...            71            65\n",
              "998  female        group D  ...            78            77\n",
              "999  female        group D  ...            86            86\n",
              "\n",
              "[1000 rows x 8 columns]>"
            ]
          },
          "metadata": {},
          "execution_count": 127
        }
      ]
    },
    {
      "cell_type": "code",
      "metadata": {
        "colab": {
          "base_uri": "https://localhost:8080/"
        },
        "id": "9BEXkLt0djZi",
        "outputId": "77b92e94-12ca-428f-97d3-f62f3be1ea95"
      },
      "source": [
        "#¿Qué tipo de variables tiene el dataset? Detalle el tipo de variable de cada columna.\n",
        "df.shape"
      ],
      "execution_count": 128,
      "outputs": [
        {
          "output_type": "execute_result",
          "data": {
            "text/plain": [
              "(1000, 8)"
            ]
          },
          "metadata": {},
          "execution_count": 128
        }
      ]
    },
    {
      "cell_type": "code",
      "metadata": {
        "colab": {
          "base_uri": "https://localhost:8080/"
        },
        "id": "OsYjwwQCdmZr",
        "outputId": "552a8644-d12b-43ae-c323-6c2ad53723d3"
      },
      "source": [
        "#¿Qué tipo de variables tiene el dataset? Detalle el tipo de variable de cada columna.\n",
        "df.dtypes\n",
        "#gender                         Cualitativo nominal\n",
        "#race/ethnicity                 Cualitativo nominal\n",
        "#parental level of education    Cualitativo ordinal\n",
        "#lunch                          Cualitativo nominal\n",
        "#test preparation course        Cualitativo nominal\n",
        "#math score                     Cuantitativo continuas\n",
        "#reading score                  Cuantitativo continuas\n",
        "#writing score                  Cuantitativo continuas"
      ],
      "execution_count": 129,
      "outputs": [
        {
          "output_type": "execute_result",
          "data": {
            "text/plain": [
              "gender                         object\n",
              "race/ethnicity                 object\n",
              "parental level of education    object\n",
              "lunch                          object\n",
              "test preparation course        object\n",
              "math score                      int64\n",
              "reading score                   int64\n",
              "writing score                   int64\n",
              "dtype: object"
            ]
          },
          "metadata": {},
          "execution_count": 129
        }
      ]
    },
    {
      "cell_type": "code",
      "metadata": {
        "colab": {
          "base_uri": "https://localhost:8080/",
          "height": 204
        },
        "id": "wyhOEqEfdv8b",
        "outputId": "01d48065-19f6-4af6-c69c-4d86a793d577"
      },
      "source": [
        "df.head()"
      ],
      "execution_count": 130,
      "outputs": [
        {
          "output_type": "execute_result",
          "data": {
            "text/html": [
              "<div>\n",
              "<style scoped>\n",
              "    .dataframe tbody tr th:only-of-type {\n",
              "        vertical-align: middle;\n",
              "    }\n",
              "\n",
              "    .dataframe tbody tr th {\n",
              "        vertical-align: top;\n",
              "    }\n",
              "\n",
              "    .dataframe thead th {\n",
              "        text-align: right;\n",
              "    }\n",
              "</style>\n",
              "<table border=\"1\" class=\"dataframe\">\n",
              "  <thead>\n",
              "    <tr style=\"text-align: right;\">\n",
              "      <th></th>\n",
              "      <th>gender</th>\n",
              "      <th>race/ethnicity</th>\n",
              "      <th>parental level of education</th>\n",
              "      <th>lunch</th>\n",
              "      <th>test preparation course</th>\n",
              "      <th>math score</th>\n",
              "      <th>reading score</th>\n",
              "      <th>writing score</th>\n",
              "    </tr>\n",
              "  </thead>\n",
              "  <tbody>\n",
              "    <tr>\n",
              "      <th>0</th>\n",
              "      <td>female</td>\n",
              "      <td>group B</td>\n",
              "      <td>bachelor's degree</td>\n",
              "      <td>standard</td>\n",
              "      <td>none</td>\n",
              "      <td>72</td>\n",
              "      <td>72</td>\n",
              "      <td>74</td>\n",
              "    </tr>\n",
              "    <tr>\n",
              "      <th>1</th>\n",
              "      <td>female</td>\n",
              "      <td>group C</td>\n",
              "      <td>some college</td>\n",
              "      <td>standard</td>\n",
              "      <td>completed</td>\n",
              "      <td>69</td>\n",
              "      <td>90</td>\n",
              "      <td>88</td>\n",
              "    </tr>\n",
              "    <tr>\n",
              "      <th>2</th>\n",
              "      <td>female</td>\n",
              "      <td>group B</td>\n",
              "      <td>master's degree</td>\n",
              "      <td>standard</td>\n",
              "      <td>none</td>\n",
              "      <td>90</td>\n",
              "      <td>95</td>\n",
              "      <td>93</td>\n",
              "    </tr>\n",
              "    <tr>\n",
              "      <th>3</th>\n",
              "      <td>male</td>\n",
              "      <td>group A</td>\n",
              "      <td>associate's degree</td>\n",
              "      <td>free/reduced</td>\n",
              "      <td>none</td>\n",
              "      <td>47</td>\n",
              "      <td>57</td>\n",
              "      <td>44</td>\n",
              "    </tr>\n",
              "    <tr>\n",
              "      <th>4</th>\n",
              "      <td>male</td>\n",
              "      <td>group C</td>\n",
              "      <td>some college</td>\n",
              "      <td>standard</td>\n",
              "      <td>none</td>\n",
              "      <td>76</td>\n",
              "      <td>78</td>\n",
              "      <td>75</td>\n",
              "    </tr>\n",
              "  </tbody>\n",
              "</table>\n",
              "</div>"
            ],
            "text/plain": [
              "   gender race/ethnicity  ... reading score writing score\n",
              "0  female        group B  ...            72            74\n",
              "1  female        group C  ...            90            88\n",
              "2  female        group B  ...            95            93\n",
              "3    male        group A  ...            57            44\n",
              "4    male        group C  ...            78            75\n",
              "\n",
              "[5 rows x 8 columns]"
            ]
          },
          "metadata": {},
          "execution_count": 130
        }
      ]
    },
    {
      "cell_type": "code",
      "metadata": {
        "colab": {
          "base_uri": "https://localhost:8080/",
          "height": 297
        },
        "id": "Xv_amv_JhRi3",
        "outputId": "c8eb6bbf-8e09-457f-d1db-2aa9800c61b7"
      },
      "source": [
        "# 2. ¿En qué asignatura en promedio los estudiantes obtuvieron un mejor puntaje?\n",
        "df.describe()\n",
        "#En promedio la materia de *reding* tuvo un puntaje mayor con 69.1"
      ],
      "execution_count": 131,
      "outputs": [
        {
          "output_type": "execute_result",
          "data": {
            "text/html": [
              "<div>\n",
              "<style scoped>\n",
              "    .dataframe tbody tr th:only-of-type {\n",
              "        vertical-align: middle;\n",
              "    }\n",
              "\n",
              "    .dataframe tbody tr th {\n",
              "        vertical-align: top;\n",
              "    }\n",
              "\n",
              "    .dataframe thead th {\n",
              "        text-align: right;\n",
              "    }\n",
              "</style>\n",
              "<table border=\"1\" class=\"dataframe\">\n",
              "  <thead>\n",
              "    <tr style=\"text-align: right;\">\n",
              "      <th></th>\n",
              "      <th>math score</th>\n",
              "      <th>reading score</th>\n",
              "      <th>writing score</th>\n",
              "    </tr>\n",
              "  </thead>\n",
              "  <tbody>\n",
              "    <tr>\n",
              "      <th>count</th>\n",
              "      <td>1000.00000</td>\n",
              "      <td>1000.000000</td>\n",
              "      <td>1000.000000</td>\n",
              "    </tr>\n",
              "    <tr>\n",
              "      <th>mean</th>\n",
              "      <td>66.08900</td>\n",
              "      <td>69.169000</td>\n",
              "      <td>68.054000</td>\n",
              "    </tr>\n",
              "    <tr>\n",
              "      <th>std</th>\n",
              "      <td>15.16308</td>\n",
              "      <td>14.600192</td>\n",
              "      <td>15.195657</td>\n",
              "    </tr>\n",
              "    <tr>\n",
              "      <th>min</th>\n",
              "      <td>0.00000</td>\n",
              "      <td>17.000000</td>\n",
              "      <td>10.000000</td>\n",
              "    </tr>\n",
              "    <tr>\n",
              "      <th>25%</th>\n",
              "      <td>57.00000</td>\n",
              "      <td>59.000000</td>\n",
              "      <td>57.750000</td>\n",
              "    </tr>\n",
              "    <tr>\n",
              "      <th>50%</th>\n",
              "      <td>66.00000</td>\n",
              "      <td>70.000000</td>\n",
              "      <td>69.000000</td>\n",
              "    </tr>\n",
              "    <tr>\n",
              "      <th>75%</th>\n",
              "      <td>77.00000</td>\n",
              "      <td>79.000000</td>\n",
              "      <td>79.000000</td>\n",
              "    </tr>\n",
              "    <tr>\n",
              "      <th>max</th>\n",
              "      <td>100.00000</td>\n",
              "      <td>100.000000</td>\n",
              "      <td>100.000000</td>\n",
              "    </tr>\n",
              "  </tbody>\n",
              "</table>\n",
              "</div>"
            ],
            "text/plain": [
              "       math score  reading score  writing score\n",
              "count  1000.00000    1000.000000    1000.000000\n",
              "mean     66.08900      69.169000      68.054000\n",
              "std      15.16308      14.600192      15.195657\n",
              "min       0.00000      17.000000      10.000000\n",
              "25%      57.00000      59.000000      57.750000\n",
              "50%      66.00000      70.000000      69.000000\n",
              "75%      77.00000      79.000000      79.000000\n",
              "max     100.00000     100.000000     100.000000"
            ]
          },
          "metadata": {},
          "execution_count": 131
        }
      ]
    },
    {
      "cell_type": "code",
      "metadata": {
        "colab": {
          "base_uri": "https://localhost:8080/",
          "height": 142
        },
        "id": "g4TqlukLksfw",
        "outputId": "ffa3fbfb-0b58-40c6-8088-f07869f0e567"
      },
      "source": [
        "# 3 ¿Existe alguna correlación entre los puntajes obtenidos en las tres asignaturas?\n",
        "df3 = df[['math score','reading score','writing score']]\n",
        "df3 = df3.corr(method ='pearson')\n",
        "df3\n",
        "# Si Existe alguna correlación entre las tres asignaturas, una correlacion alta de 0.81 , 0.80 y 0.95?"
      ],
      "execution_count": 132,
      "outputs": [
        {
          "output_type": "execute_result",
          "data": {
            "text/html": [
              "<div>\n",
              "<style scoped>\n",
              "    .dataframe tbody tr th:only-of-type {\n",
              "        vertical-align: middle;\n",
              "    }\n",
              "\n",
              "    .dataframe tbody tr th {\n",
              "        vertical-align: top;\n",
              "    }\n",
              "\n",
              "    .dataframe thead th {\n",
              "        text-align: right;\n",
              "    }\n",
              "</style>\n",
              "<table border=\"1\" class=\"dataframe\">\n",
              "  <thead>\n",
              "    <tr style=\"text-align: right;\">\n",
              "      <th></th>\n",
              "      <th>math score</th>\n",
              "      <th>reading score</th>\n",
              "      <th>writing score</th>\n",
              "    </tr>\n",
              "  </thead>\n",
              "  <tbody>\n",
              "    <tr>\n",
              "      <th>math score</th>\n",
              "      <td>1.000000</td>\n",
              "      <td>0.817580</td>\n",
              "      <td>0.802642</td>\n",
              "    </tr>\n",
              "    <tr>\n",
              "      <th>reading score</th>\n",
              "      <td>0.817580</td>\n",
              "      <td>1.000000</td>\n",
              "      <td>0.954598</td>\n",
              "    </tr>\n",
              "    <tr>\n",
              "      <th>writing score</th>\n",
              "      <td>0.802642</td>\n",
              "      <td>0.954598</td>\n",
              "      <td>1.000000</td>\n",
              "    </tr>\n",
              "  </tbody>\n",
              "</table>\n",
              "</div>"
            ],
            "text/plain": [
              "               math score  reading score  writing score\n",
              "math score       1.000000       0.817580       0.802642\n",
              "reading score    0.817580       1.000000       0.954598\n",
              "writing score    0.802642       0.954598       1.000000"
            ]
          },
          "metadata": {},
          "execution_count": 132
        }
      ]
    },
    {
      "cell_type": "code",
      "metadata": {
        "colab": {
          "base_uri": "https://localhost:8080/"
        },
        "id": "VYHgufEgiX0_",
        "outputId": "df4f397e-472f-4a45-deba-3adf3266744c"
      },
      "source": [
        "# 4 ¿Hay alguna diferencia observable en los puntajes de la asignatura de matemáticas entre hombres y mujeres? ¿Quiénes, hombres o mujeres, tienen la mediana más alta para esta misma asignatura?\n",
        "\n",
        "df4 = df.groupby(['gender']).median()\n",
        "df_4 = df.groupby(['gender']).mean()\n",
        "\n",
        "print(df4)\n",
        "print(df_4)\n",
        "#Se puede ver que la media de las mujeres en matematicas 5 puntos menor.  Los hombre tienen la mediana más alta en matematicas con 69\n"
      ],
      "execution_count": 133,
      "outputs": [
        {
          "output_type": "stream",
          "name": "stdout",
          "text": [
            "        math score  reading score  writing score\n",
            "gender                                          \n",
            "female          65             73             74\n",
            "male            69             66             64\n",
            "        math score  reading score  writing score\n",
            "gender                                          \n",
            "female   63.633205      72.608108      72.467181\n",
            "male     68.728216      65.473029      63.311203\n"
          ]
        }
      ]
    },
    {
      "cell_type": "code",
      "metadata": {
        "colab": {
          "base_uri": "https://localhost:8080/"
        },
        "id": "3DLD92u2kUew",
        "outputId": "4206a5a1-b257-4c56-81d8-71bb9707f465"
      },
      "source": [
        "# 5 ¿Qué nivel de escolaridad tienen los padres de los estudiantes que obtuvieron un puntaje superior a 90 en la asignatura de escritura? Liste los niveles de escolaridad del más al menos frecuente.\n",
        "df5 = df.loc[df['writing score']>90]\n",
        "df5 = df5.groupby(\"parental level of education\").count().sort_values('gender', ascending = False)\n",
        "df_5 = df.groupby(\"parental level of education\").count().sort_values('gender', ascending = False)\n",
        "print(df5)                                                    \n",
        "print(df_5)                                                    \n",
        "#Los padres de los estudiantes que obtuvieron un puntaje superior a 90 suelen tener estudios superiores a high school "
      ],
      "execution_count": 134,
      "outputs": [
        {
          "output_type": "stream",
          "name": "stdout",
          "text": [
            "                             gender  ...  writing score\n",
            "parental level of education          ...               \n",
            "associate's degree               19  ...             19\n",
            "some college                     18  ...             18\n",
            "bachelor's degree                15  ...             15\n",
            "master's degree                  10  ...             10\n",
            "some high school                  5  ...              5\n",
            "high school                       1  ...              1\n",
            "\n",
            "[6 rows x 7 columns]\n",
            "                             gender  ...  writing score\n",
            "parental level of education          ...               \n",
            "some college                    226  ...            226\n",
            "associate's degree              222  ...            222\n",
            "high school                     196  ...            196\n",
            "some high school                179  ...            179\n",
            "bachelor's degree               118  ...            118\n",
            "master's degree                  59  ...             59\n",
            "\n",
            "[6 rows x 7 columns]\n"
          ]
        }
      ]
    },
    {
      "cell_type": "code",
      "metadata": {
        "colab": {
          "base_uri": "https://localhost:8080/"
        },
        "id": "V2pOonlEkgCk",
        "outputId": "3686101e-1a04-4743-ef23-53cc74e7bed6"
      },
      "source": [
        "# 6 ¿Qué porcentaje de los estudiantes obtuvieron puntajes iguales o superiores a 90 en las tres asignaturas? ¿Qué porcentaje de los estudiantes obtuvieron puntajes iguales o superiores a 90 en las tres asignaturas y que adicionalmente estudiaron para los exámenes?\n",
        "df6 = df.loc[df['math score']>90].loc[df['reading score']>90 ].loc[ df['writing score']>90]\n",
        "print(df6)\n",
        "# el 2.3% porciento de los estudiantes saco mas de 90 en las 3 materias\n",
        "df_6= df6.loc[df['test preparation course']=='completed']\n",
        "print(df_6)\n",
        "# solo 14 de los 23 estudiantes completaron el curso, "
      ],
      "execution_count": 139,
      "outputs": [
        {
          "output_type": "stream",
          "name": "stdout",
          "text": [
            "     gender race/ethnicity  ... reading score writing score\n",
            "114  female        group E  ...           100           100\n",
            "149    male        group E  ...           100            93\n",
            "165  female        group C  ...           100           100\n",
            "179  female        group D  ...           100           100\n",
            "451  female        group E  ...            92            97\n",
            "458  female        group E  ...           100           100\n",
            "546  female        group A  ...           100            97\n",
            "566  female        group E  ...           100           100\n",
            "571    male        group A  ...            96            92\n",
            "594  female        group C  ...           100            99\n",
            "625    male        group D  ...            97            99\n",
            "685  female        group E  ...            99           100\n",
            "712  female        group D  ...           100            99\n",
            "717  female        group C  ...            96            99\n",
            "855  female        group B  ...            97            96\n",
            "864    male        group C  ...            93            91\n",
            "886  female        group E  ...           100            95\n",
            "903  female        group D  ...           100           100\n",
            "916    male        group E  ...           100           100\n",
            "919    male        group B  ...            96            91\n",
            "957  female        group D  ...           100           100\n",
            "962  female        group E  ...           100           100\n",
            "979  female        group C  ...            95            94\n",
            "\n",
            "[23 rows x 8 columns]\n",
            "     gender race/ethnicity  ... reading score writing score\n",
            "114  female        group E  ...           100           100\n",
            "149    male        group E  ...           100            93\n",
            "165  female        group C  ...           100           100\n",
            "179  female        group D  ...           100           100\n",
            "546  female        group A  ...           100            97\n",
            "566  female        group E  ...           100           100\n",
            "594  female        group C  ...           100            99\n",
            "625    male        group D  ...            97            99\n",
            "685  female        group E  ...            99           100\n",
            "717  female        group C  ...            96            99\n",
            "886  female        group E  ...           100            95\n",
            "903  female        group D  ...           100           100\n",
            "916    male        group E  ...           100           100\n",
            "919    male        group B  ...            96            91\n",
            "\n",
            "[14 rows x 8 columns]\n"
          ]
        }
      ]
    }
  ]
}